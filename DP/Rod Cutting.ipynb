{
 "cells": [
  {
   "cell_type": "code",
   "execution_count": null,
   "id": "15035e2f",
   "metadata": {},
   "outputs": [],
   "source": [
    "class Solution:\n",
    "    def cutRod(self, price, N):\n",
    "        dp = [0]*(N+1) \n",
    "        \n",
    "        for rl in range(1, N+1):\n",
    "            ans = 0\n",
    "            for cl in range(1, rl+1):\n",
    "                ans = max(ans, price[cl-1]+dp[rl-cl])\n",
    "            dp[rl] = ans\n",
    "        return dp[N]"
   ]
  }
 ],
 "metadata": {
  "kernelspec": {
   "display_name": "Python 3 (ipykernel)",
   "language": "python",
   "name": "python3"
  },
  "language_info": {
   "codemirror_mode": {
    "name": "ipython",
    "version": 3
   },
   "file_extension": ".py",
   "mimetype": "text/x-python",
   "name": "python",
   "nbconvert_exporter": "python",
   "pygments_lexer": "ipython3",
   "version": "3.11.5"
  }
 },
 "nbformat": 4,
 "nbformat_minor": 5
}
