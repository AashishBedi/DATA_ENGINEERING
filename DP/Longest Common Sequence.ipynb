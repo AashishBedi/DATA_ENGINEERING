{
 "cells": [
  {
   "cell_type": "code",
   "execution_count": 1,
   "id": "000a2e9c",
   "metadata": {},
   "outputs": [],
   "source": [
    "#Recursive approach\n",
    "class Solution:\n",
    "    \n",
    "    #Function to find the length of longest common subsequence in two strings.\n",
    "    def lcs(self,x,y,str1,str2):\n",
    "        dp = {}\n",
    "        def solve(s1,s2,m,n):\n",
    "            if m == 0 or n == 0:\n",
    "                return 0\n",
    "            elif (m,n) in dp:\n",
    "                return dp[(m,n)]\n",
    "            else:\n",
    "                if s1[m-1] == s2[n-1]:\n",
    "                    c =  1+solve(s1, s2, m-1, n-1)\n",
    "                else:\n",
    "                    c1 = solve(s1,s2,m-1,n)\n",
    "                    c2 = solve(s1,s2,m,n-1)\n",
    "                    c =  max(c1,c2)\n",
    "                dp[(m,n)] = c\n",
    "                return c\n",
    "        return solve(str1,str2,x,y)"
   ]
  },
  {
   "cell_type": "code",
   "execution_count": null,
   "id": "19203c26",
   "metadata": {},
   "outputs": [],
   "source": [
    "#Iterative approach\n",
    "class Solution:\n",
    "    \n",
    "    #Function to find the length of longest common subsequence in two strings.\n",
    "    def lcs(self,x,y,str1,str2):\n",
    "        dp = [[0]*(y+1) for _ in range(x+1)]\n",
    "        for i in range(x+1):\n",
    "            for j in range(y+1):\n",
    "                m = i\n",
    "                n = j\n",
    "                if m==0 or n==0:\n",
    "                    dp[i][j] = 0\n",
    "                else:\n",
    "                    if str1[m-1] == str2[n-1]:\n",
    "                        dp[i][j] = 1+dp[m-1][n-1]\n",
    "                    else:\n",
    "                        c1 = dp[m-1][n]\n",
    "                        c2 = dp[m][n-1]\n",
    "                        dp[i][j] = max(c1,c2)\n",
    "       \n",
    "        return dp[x][y]"
   ]
  }
 ],
 "metadata": {
  "kernelspec": {
   "display_name": "Python 3 (ipykernel)",
   "language": "python",
   "name": "python3"
  },
  "language_info": {
   "codemirror_mode": {
    "name": "ipython",
    "version": 3
   },
   "file_extension": ".py",
   "mimetype": "text/x-python",
   "name": "python",
   "nbconvert_exporter": "python",
   "pygments_lexer": "ipython3",
   "version": "3.11.5"
  }
 },
 "nbformat": 4,
 "nbformat_minor": 5
}
