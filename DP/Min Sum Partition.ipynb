{
 "cells": [
  {
   "cell_type": "code",
   "execution_count": null,
   "id": "98597139",
   "metadata": {},
   "outputs": [],
   "source": [
    "'''\n",
    "class Solution:\n",
    "\tdef minDifference(self, arr, N):\n",
    "\t\t# code here\n",
    "\t\tSUM = sum(arr)\n",
    "\t\tdp = {}\n",
    "\t\tdef solve(n,p1,SUM):\n",
    "\t\t    p2 = SUM-p1\n",
    "\t\t    if n==0:\n",
    "\t\t        return p1-p2\n",
    "\t\t    elif (n, p1) in dp:\n",
    "\t\t        return dp[(n, p1)]\n",
    "\t\t    else:\n",
    "\t\t        item = arr[n-1]\n",
    "\t\t        if p1-item >= p2+item:\n",
    "\t\t            c1 = solve(n-1, p1-item,SUM)\n",
    "\t\t            c2 = solve(n-1, p1,SUM)\n",
    "\t\t            c = min(c1,c2)\n",
    "\t\t        else:\n",
    "\t\t            c = solve(n-1,p1,SUM)\n",
    "\t\t        dp[(n, p1)] = c\n",
    "\t\t        return c\n",
    "\t\t  return solve(N,SUM,SUM)\n",
    "'''\n",
    "class Solution:\n",
    "    def minDifference(self, arr, N):\n",
    "        SUM = sum(arr)\n",
    "        dp = {}\n",
    "\n",
    "        def solve(n, p1, SUM):\n",
    "            p2 = SUM - p1\n",
    "            if n == 0:\n",
    "                return abs(p1 - p2)\n",
    "            elif (n, p1) in dp:\n",
    "                return dp[(n, p1)]\n",
    "            else:\n",
    "                item = arr[n - 1]\n",
    "                if p1 - item >= p2 + item:\n",
    "                    c1 = solve(n - 1, p1 - item, SUM)\n",
    "                    c2 = solve(n - 1, p1, SUM)\n",
    "                    c = min(c1, c2)\n",
    "                else:\n",
    "                    c = solve(n - 1, p1, SUM)\n",
    "                dp[(n, p1)] = c\n",
    "                return c\n",
    "\n",
    "        result = solve(N, SUM, SUM)\n",
    "        return result\n"
   ]
  }
 ],
 "metadata": {
  "kernelspec": {
   "display_name": "Python 3 (ipykernel)",
   "language": "python",
   "name": "python3"
  },
  "language_info": {
   "codemirror_mode": {
    "name": "ipython",
    "version": 3
   },
   "file_extension": ".py",
   "mimetype": "text/x-python",
   "name": "python",
   "nbconvert_exporter": "python",
   "pygments_lexer": "ipython3",
   "version": "3.11.5"
  }
 },
 "nbformat": 4,
 "nbformat_minor": 5
}
