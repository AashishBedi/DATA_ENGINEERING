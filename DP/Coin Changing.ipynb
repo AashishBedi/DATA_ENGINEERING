{
 "cells": [
  {
   "cell_type": "code",
   "execution_count": 1,
   "id": "3ee1c6d3",
   "metadata": {},
   "outputs": [],
   "source": [
    "#Recursive approach   #Not optimised\n",
    "class Solution:\n",
    "    def count(self, coins, N, Sum):\n",
    "        # code here \n",
    "        dp = {}\n",
    "        def solve(n, cap):\n",
    "            if cap == 0:\n",
    "                return 1\n",
    "            elif n == 0:\n",
    "                return 0\n",
    "            elif(n, cap) in dp:\n",
    "                return dp[(n, cap)]\n",
    "            else:\n",
    "                val = coins[n-1]\n",
    "                if val <= cap:\n",
    "                    c1 = solve(n, cap-val)\n",
    "                    c2 = solve(n-1, cap)\n",
    "                    c = c1+c2\n",
    "                else:\n",
    "                    c = solve(n-1, cap)\n",
    "                dp[(n,  cap)] = c\n",
    "                return c\n",
    "        return solve(N, Sum)"
   ]
  },
  {
   "cell_type": "code",
   "execution_count": null,
   "id": "7cf2d7cf",
   "metadata": {},
   "outputs": [],
   "source": [
    "#Iterative approach\n",
    "class Solution:\n",
    "    def count(self, coins, N, Sum):\n",
    "        # code here \n",
    "        dp = [[0]*(Sum+1) for _ in range(N+1)]\n",
    "        \n",
    "        for i in range(N+1):\n",
    "            for j in range(Sum+1):\n",
    "                cap = j\n",
    "                n = i\n",
    "                \n",
    "                if cap == 0:\n",
    "                    dp[i][j] = 1\n",
    "                elif n == 0:\n",
    "                    dp[i][j] = 0\n",
    "                else:\n",
    "                    val = coins[n-1]\n",
    "                    if val<=cap:\n",
    "                        c1 = dp[n][cap-val]\n",
    "                        c2 = dp[n-1][cap]\n",
    "                        dp[i][j] = c1+c2\n",
    "                    else:\n",
    "                        dp[i][j] = dp[n-1][cap]\n",
    "        return dp[N][Sum]"
   ]
  }
 ],
 "metadata": {
  "kernelspec": {
   "display_name": "Python 3 (ipykernel)",
   "language": "python",
   "name": "python3"
  },
  "language_info": {
   "codemirror_mode": {
    "name": "ipython",
    "version": 3
   },
   "file_extension": ".py",
   "mimetype": "text/x-python",
   "name": "python",
   "nbconvert_exporter": "python",
   "pygments_lexer": "ipython3",
   "version": "3.11.5"
  }
 },
 "nbformat": 4,
 "nbformat_minor": 5
}
