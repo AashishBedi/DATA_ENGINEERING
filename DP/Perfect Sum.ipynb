{
 "cells": [
  {
   "cell_type": "code",
   "execution_count": null,
   "id": "3a9e0ac6",
   "metadata": {},
   "outputs": [],
   "source": [
    "class Solution:\n",
    "    def perfectSum(self, arr, N, sum):\n",
    "        dp = {}\n",
    "        mod = 10**9 + 7\n",
    "        def solve(n, Sum):\n",
    "            if Sum == 0:\n",
    "                return 1\n",
    "            elif n == 0:\n",
    "                return 0\n",
    "            else:\n",
    "                item = arr[n-1]\n",
    "                if item <= Sum:\n",
    "                    c1 = solve(n-1, Sum-item)\n",
    "                    c2 = solve(n-1, Sum)\n",
    "                    c = c1+c2\n",
    "                else:\n",
    "                    c = solve(n-1, Sum)\n",
    "                dp[(n, Sum)] = c\n",
    "                return c\n",
    "        return solve(N, sum)"
   ]
  }
 ],
 "metadata": {
  "kernelspec": {
   "display_name": "Python 3 (ipykernel)",
   "language": "python",
   "name": "python3"
  },
  "language_info": {
   "codemirror_mode": {
    "name": "ipython",
    "version": 3
   },
   "file_extension": ".py",
   "mimetype": "text/x-python",
   "name": "python",
   "nbconvert_exporter": "python",
   "pygments_lexer": "ipython3",
   "version": "3.11.5"
  }
 },
 "nbformat": 4,
 "nbformat_minor": 5
}
