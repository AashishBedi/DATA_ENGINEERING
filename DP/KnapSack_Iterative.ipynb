{
 "cells": [
  {
   "cell_type": "code",
   "execution_count": null,
   "id": "4f1edccc",
   "metadata": {},
   "outputs": [],
   "source": [
    "class Solution:\n",
    "    def KnapSack(self, N, W, val, wt):\n",
    "        dp = [[0]*(W+1) for _ in range(N)]\n",
    "        \n",
    "        for i in range(N):\n",
    "            for j in range(W + 1):\n",
    "                cap = j\n",
    "                cwt = wt[i]\n",
    "                cv = val[i]\n",
    "                if i == 0:\n",
    "                    if cwt <= cap:\n",
    "                        dp[i][j] = cv\n",
    "                    else:\n",
    "                        dp[i][j] = 0\n",
    "                else:\n",
    "                    if cwt <= cap:\n",
    "                        c1 = cv + dp[i-1][cap-cwt]\n",
    "                        c2 = dp[i-1][cap]\n",
    "                        dp[i][j] = max(c1, c2)\n",
    "                    else:\n",
    "                        dp[i][j] = dp[i-1][cap]\n",
    "        return dp[N-1][W]"
   ]
  }
 ],
 "metadata": {
  "kernelspec": {
   "display_name": "Python 3 (ipykernel)",
   "language": "python",
   "name": "python3"
  },
  "language_info": {
   "codemirror_mode": {
    "name": "ipython",
    "version": 3
   },
   "file_extension": ".py",
   "mimetype": "text/x-python",
   "name": "python",
   "nbconvert_exporter": "python",
   "pygments_lexer": "ipython3",
   "version": "3.11.5"
  }
 },
 "nbformat": 4,
 "nbformat_minor": 5
}
