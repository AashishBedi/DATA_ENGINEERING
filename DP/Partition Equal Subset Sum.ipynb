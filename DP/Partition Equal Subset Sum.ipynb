{
 "cells": [
  {
   "cell_type": "code",
   "execution_count": null,
   "id": "28972d87",
   "metadata": {},
   "outputs": [],
   "source": [
    "def equalPartition(self, N, arr):\n",
    "        # To check whether we can divide the array or not\n",
    "        sm = sum(arr)\n",
    "        if sm % 2 != 0:\n",
    "            return 0\n",
    "    \n",
    "        memo = {}\n",
    "        target = sm // 2\n",
    "        arr.sort(reverse=True)\n",
    "    \n",
    "        def solve(n, target):\n",
    "            if target == 0:\n",
    "                return 1\n",
    "            elif n == 0:\n",
    "                return 0\n",
    "            elif (n, target) in memo:\n",
    "                return memo[(n, target)]\n",
    "            else:\n",
    "                if arr[n - 1] <= target:\n",
    "                    c1 = solve(n - 1, target - arr[n - 1])\n",
    "                    if c1 == 1: \n",
    "                        memo[(n, target)] = 1\n",
    "                    else: \n",
    "                        memo[(n, target)] = solve(n - 1, target)\n",
    "                else:\n",
    "                    memo[(n, target)] = 0\n",
    "                return memo[(n, target)]\n",
    "    \n",
    "        return solve(N, target)"
   ]
  }
 ],
 "metadata": {
  "kernelspec": {
   "display_name": "Python 3 (ipykernel)",
   "language": "python",
   "name": "python3"
  },
  "language_info": {
   "codemirror_mode": {
    "name": "ipython",
    "version": 3
   },
   "file_extension": ".py",
   "mimetype": "text/x-python",
   "name": "python",
   "nbconvert_exporter": "python",
   "pygments_lexer": "ipython3",
   "version": "3.11.5"
  }
 },
 "nbformat": 4,
 "nbformat_minor": 5
}
