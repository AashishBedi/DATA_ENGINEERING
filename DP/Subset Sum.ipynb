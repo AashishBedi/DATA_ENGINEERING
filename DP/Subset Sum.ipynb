{
 "cells": [
  {
   "cell_type": "code",
   "execution_count": 1,
   "id": "fc224bb6",
   "metadata": {},
   "outputs": [],
   "source": [
    "#Recursive approach\n",
    "class Solution:\n",
    "    def isSubsetSum(self, N, arr, sum):\n",
    "        dp = {}\n",
    "        arr.sort(reverse = True)\n",
    "        def solve(n, sm): #sm means sum we want to obtain by reducing\n",
    "            if sm == 0:\n",
    "                return 1\n",
    "            elif n == 0:\n",
    "                return 0\n",
    "            elif (n, sm) in dp:\n",
    "                return dp[(n, sm)]\n",
    "            else:\n",
    "                curr_item = arr[n-1]\n",
    "                if curr_item <= sm:\n",
    "                    c1 = solve(n-1, sm - curr_item)\n",
    "                    c2 = solve(n-1, sm)\n",
    "                    c = max(c1, c2)\n",
    "                else:\n",
    "                    c =  0\n",
    "                dp[(n, sm)] = c\n",
    "                return c\n",
    "        return solve(N, sum)"
   ]
  },
  {
   "cell_type": "code",
   "execution_count": null,
   "id": "7ebc51b9",
   "metadata": {},
   "outputs": [],
   "source": [
    "#Iterative approach\n",
    "class Solution:\n",
    "    def isSubsetSum(self, N, arr, sum):\n",
    "        dp = [[0]*(sum+1) for _ in range(N)]\n",
    "        for i in range(N):\n",
    "            for j in range(sum+1):\n",
    "                curr_item = arr[i]\n",
    "                sm = j\n",
    "                if i == 0:\n",
    "                    if sm == 0 or curr_item == sm:\n",
    "                        dp[i][j] = 1\n",
    "                else:\n",
    "                    if curr_item <= sm:\n",
    "                        dp[i][j] = dp[i-1][sm - curr_item] or dp[i-1][sm]\n",
    "                    else:\n",
    "                        dp[i][j] = dp[i-1][sm]\n",
    "        return dp[N-1][sum]"
   ]
  }
 ],
 "metadata": {
  "kernelspec": {
   "display_name": "Python 3 (ipykernel)",
   "language": "python",
   "name": "python3"
  },
  "language_info": {
   "codemirror_mode": {
    "name": "ipython",
    "version": 3
   },
   "file_extension": ".py",
   "mimetype": "text/x-python",
   "name": "python",
   "nbconvert_exporter": "python",
   "pygments_lexer": "ipython3",
   "version": "3.11.5"
  }
 },
 "nbformat": 4,
 "nbformat_minor": 5
}
