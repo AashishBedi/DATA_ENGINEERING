{
 "cells": [
  {
   "cell_type": "code",
   "execution_count": null,
   "id": "d58fd9d8",
   "metadata": {},
   "outputs": [],
   "source": [
    "class Solution:   #W- weight capacity of bag, wt- array of weights, val- array of values\n",
    "    def knapSack(self, N, W, val, wt):  #N- number of items\n",
    "        dp = {}\n",
    "        def solve(n, cap):  #n = num_of_items, cap = capacity\n",
    "            if(n == 0 or cap == 0):\n",
    "                return 0\n",
    "            \n",
    "            elif (n, cap) in dp:\n",
    "                return dp[(n, cap)]\n",
    "            \n",
    "            else:\n",
    "                cwt = wt[n-1] #current weight of item\n",
    "                cv = val[n-1] #current value of item\n",
    "                if cwt <= cap:\n",
    "                    case_1 = cv + solve(n-1, cap - cwt) #If i want to add item in the array ATS\n",
    "                    case_2 = solve(n - 1 , cap)  #if I don't want take item in array ATS\n",
    "                    c =  max(case_1, case_2)\n",
    "                else:\n",
    "                    c =  solve(n-1, cap)\n",
    "                dp[(n, cap)] = c\n",
    "                return c\n",
    "        return solve(N,W)"
   ]
  }
 ],
 "metadata": {
  "kernelspec": {
   "display_name": "Python 3 (ipykernel)",
   "language": "python",
   "name": "python3"
  },
  "language_info": {
   "codemirror_mode": {
    "name": "ipython",
    "version": 3
   },
   "file_extension": ".py",
   "mimetype": "text/x-python",
   "name": "python",
   "nbconvert_exporter": "python",
   "pygments_lexer": "ipython3",
   "version": "3.11.5"
  }
 },
 "nbformat": 4,
 "nbformat_minor": 5
}
