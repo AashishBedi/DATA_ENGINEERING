{
 "cells": [
  {
   "cell_type": "code",
   "execution_count": null,
   "id": "dd72c059",
   "metadata": {},
   "outputs": [],
   "source": [
    "class Solution:\n",
    "    def knapSack(self, N, W, val, wt):\n",
    "        dp = [[0]*(W+1) for _ in range(N)]\n",
    "        \n",
    "        for i in range(N):\n",
    "            for j in range(W+1):\n",
    "                cap  =j   #Here j is representing capacity\n",
    "                cv = val[i]  #Here i is representing current index of the item\n",
    "                cw = wt[i]\n",
    "                \n",
    "                if i == 0:  #This condition means only one item in the array\n",
    "                    dp[i][j] = (cap//cw)*cv\n",
    "                else:\n",
    "                    if cw <= cap:\n",
    "                        dp[i][j] = max(cv+dp[i][cap-cw], dp[i-1][cap])\n",
    "                    else:\n",
    "                        dp[i][j] = dp[i-1][cap]\n",
    "        return dp[N-1][W]"
   ]
  }
 ],
 "metadata": {
  "kernelspec": {
   "display_name": "Python 3 (ipykernel)",
   "language": "python",
   "name": "python3"
  },
  "language_info": {
   "codemirror_mode": {
    "name": "ipython",
    "version": 3
   },
   "file_extension": ".py",
   "mimetype": "text/x-python",
   "name": "python",
   "nbconvert_exporter": "python",
   "pygments_lexer": "ipython3",
   "version": "3.11.5"
  }
 },
 "nbformat": 4,
 "nbformat_minor": 5
}
